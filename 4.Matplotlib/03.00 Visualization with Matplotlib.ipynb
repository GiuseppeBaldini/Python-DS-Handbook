{
 "cells": [
  {
   "cell_type": "markdown",
   "metadata": {},
   "source": [
    "# 03.00 Visualization with Matplotlib"
   ]
  },
  {
   "cell_type": "markdown",
   "metadata": {},
   "source": [
    "Matplotlib is a multi-platform data visualization library built on NumPy arrays, and designed to work with the broader SciPy stack. "
   ]
  },
  {
   "cell_type": "code",
   "execution_count": 1,
   "metadata": {},
   "outputs": [],
   "source": [
    "import matplotlib as mpl\n",
    "import matplotlib.pyplot as plt"
   ]
  },
  {
   "cell_type": "markdown",
   "metadata": {},
   "source": [
    "### Setting Styles\n",
    "\n",
    "We will use the <code>plt.style</code> directive to choose appropriate aesthetic styles for our figures.\n",
    "\n",
    "For example, let's use <code>classic</code>:"
   ]
  },
  {
   "cell_type": "code",
   "execution_count": 3,
   "metadata": {},
   "outputs": [],
   "source": [
    "plt.style.use('classic')"
   ]
  },
  {
   "cell_type": "markdown",
   "metadata": {},
   "source": [
    "### Diplaying plots: <code>show()</code>\n",
    "\n",
    "In general, there are three contexts for using Matplotlib:\n",
    "\n",
    "1. Script\n",
    "2. IPython terminal\n",
    "3. IPython notebook"
   ]
  },
  {
   "cell_type": "markdown",
   "metadata": {},
   "source": [
    "#### 1. Plotting from a script\n",
    "\n",
    "We can plot from a script using <code>plt.show()</code> which starts an event loop, looks for all current active figure objects, and opens one or more interactive windows that display our figure or figures."
   ]
  },
  {
   "cell_type": "code",
   "execution_count": null,
   "metadata": {},
   "outputs": [],
   "source": [
    "# ------- file: myplot.py ------\n",
    "import matplotlib.pyplot as plt\n",
    "import numpy as np\n",
    "\n",
    "x = np.linspace(0, 10, 100)\n",
    "\n",
    "plt.plot(x, np.sin(x))\n",
    "plt.plot(x, np.cos(x))\n",
    "\n",
    "plt.show()"
   ]
  },
  {
   "cell_type": "markdown",
   "metadata": {},
   "source": [
    "Running this from the command line will result in a window opening with the desired figure.\n",
    "\n",
    "**Note**:<code>plt.show()</code> should be used only once per Python script, and most often is put at the end of the script."
   ]
  },
  {
   "cell_type": "markdown",
   "metadata": {},
   "source": [
    "#### 2. Plotting from an IPython shell\n",
    "\n",
    "To enable use of Matplotlib in the IPython Shell, we can use the <code>%matplotlib</code> magic command."
   ]
  },
  {
   "cell_type": "markdown",
   "metadata": {},
   "source": [
    "#### 3. Plotting from an IPython notebook\n",
    "\n",
    "Plotting interactively within an IPython notebook can be done with the <code>%matplotlib</code> command, with the option to embed graphics directly in the notebook:\n",
    "\n",
    "* <code>%matplotlib notebook</code> will lead to interactive plots embedded within the notebook\n",
    "* <code>%matplotlib inline</code> will lead to static images of your plot embedded in the notebook"
   ]
  }
 ],
 "metadata": {
  "kernelspec": {
   "display_name": "Python 3",
   "language": "python",
   "name": "python3"
  },
  "language_info": {
   "codemirror_mode": {
    "name": "ipython",
    "version": 3
   },
   "file_extension": ".py",
   "mimetype": "text/x-python",
   "name": "python",
   "nbconvert_exporter": "python",
   "pygments_lexer": "ipython3",
   "version": "3.6.1"
  }
 },
 "nbformat": 4,
 "nbformat_minor": 2
}
