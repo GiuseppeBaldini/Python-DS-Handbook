{
 "cells": [
  {
   "cell_type": "markdown",
   "metadata": {},
   "source": [
    "# 05.01 - What is Machine Learning"
   ]
  },
  {
   "cell_type": "markdown",
   "metadata": {},
   "source": [
    "For the purposes of this Chapter, it is helpful to think of machine learning as a _means of building models of data_.\n",
    "\n",
    "Once these models have been fit to previously seen data, they can be used by a **machine** to predict and understand aspects of newly observed data (**learning**). \n",
    "\n",
    "Let's start with some broad categorizations of the types of approaches we'll discuss here:"
   ]
  },
  {
   "cell_type": "markdown",
   "metadata": {},
   "source": [
    "### Categories of Machine Learning\n",
    "\n",
    "At the most fundamental level, machine learning can be categorized into two main types: **supervised** learning and **unsupervised** learning:\n",
    "\n",
    "_[Quoting directly from the book]_\n",
    "\n",
    "**Supervised learning** involves somehow modeling the relationship between measured features of data and some label associated with the data; once this model is determined, it can be used to apply labels to new, unknown data. \n",
    "This is further subdivided into:\n",
    "\n",
    "* _Classification tasks_ - Models that predict labels as two or more discrete categories\n",
    "* _Regression tasks_ - Models that predict continuous labels\n",
    "\n",
    "**Unsupervised learning** involves modeling the features of a dataset without reference to any label, and is often described as \"letting the dataset speak for itself.\" \n",
    "These models include tasks such as: \n",
    "\n",
    "* _Clustering_ - Models that predict continuous labels\n",
    "* _Dimensionality reduction_ - Models that detect and identify lower-dimensional structure in higher-dimensional data"
   ]
  }
 ],
 "metadata": {
  "kernelspec": {
   "display_name": "Python 3",
   "language": "python",
   "name": "python3"
  },
  "language_info": {
   "codemirror_mode": {
    "name": "ipython",
    "version": 3
   },
   "file_extension": ".py",
   "mimetype": "text/x-python",
   "name": "python",
   "nbconvert_exporter": "python",
   "pygments_lexer": "ipython3",
   "version": "3.6.1"
  }
 },
 "nbformat": 4,
 "nbformat_minor": 2
}
