{
 "cells": [
  {
   "cell_type": "markdown",
   "metadata": {},
   "source": [
    "# 05.05 - Naive Bayes Classification"
   ]
  },
  {
   "cell_type": "markdown",
   "metadata": {},
   "source": [
    "In the previous four sections, we mostly focused on a general overview of the concepts of machine learning. This and the following 8 sections, on the other end, will focus on specific alogorithms for supervised and unsupervised learning.\n",
    "\n",
    "In this Chapter, we will have a look at **Naive Bayes** models, a class of fast models with very few tunable parameters, very suitable for a quick and dirty baseline for more complex classification algorithms. "
   ]
  },
  {
   "cell_type": "markdown",
   "metadata": {},
   "source": [
    "### Bayes Classification\n",
    "\n",
    "Naive Bayes classifiers rely on Bayes's theorem, which is an equation describing the relationship of conditional probabilities of statistical quantities: \n",
    "\n",
    "<code>P(L | features) = [P(features | L) P(L)] / P(features)"
   ]
  },
  {
   "cell_type": "code",
   "execution_count": null,
   "metadata": {},
   "outputs": [],
   "source": []
  }
 ],
 "metadata": {
  "kernelspec": {
   "display_name": "Python 3",
   "language": "python",
   "name": "python3"
  },
  "language_info": {
   "codemirror_mode": {
    "name": "ipython",
    "version": 3
   },
   "file_extension": ".py",
   "mimetype": "text/x-python",
   "name": "python",
   "nbconvert_exporter": "python",
   "pygments_lexer": "ipython3",
   "version": "3.6.1"
  }
 },
 "nbformat": 4,
 "nbformat_minor": 2
}
