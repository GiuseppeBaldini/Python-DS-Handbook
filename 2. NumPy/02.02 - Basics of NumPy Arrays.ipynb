{
 "cells": [
  {
   "cell_type": "markdown",
   "metadata": {},
   "source": [
    "# 02.02 - Basics of NumPy Arrays"
   ]
  },
  {
   "cell_type": "markdown",
   "metadata": {},
   "source": [
    "Basic categories of array manipulation:\n",
    "\n",
    "1. **Attributes**: Determining the size, shape, memory consumption, and data types of arrays\n",
    "2. **Indexing**: Getting and setting the value of individual array elements\n",
    "3. **Slicing**: Getting and setting smaller subarrays within a larger array\n",
    "4. **Reshaping**: Changing the shape of a given array\n",
    "5. **Joining and splitting**: Combining multiple arrays into one, and splitting one array into many"
   ]
  },
  {
   "cell_type": "markdown",
   "metadata": {},
   "source": [
    "### 1. NumPy Array Attributes\n",
    "\n",
    "Let's start by defining three random arrays: one-dimensional, two-dimensional, and three-dimensional.\n",
    "\n",
    "In order to ensure that the same random arrays are generated each time the code is run, we can specificy a set _seed_ in NumPy random number generator."
   ]
  },
  {
   "cell_type": "code",
   "execution_count": 1,
   "metadata": {},
   "outputs": [],
   "source": [
    "import numpy as np\n",
    "np.random.seed(0)  # seed for reproducibility\n",
    "\n",
    "x1 = np.random.randint(10, size=6)  # One-dimensional array\n",
    "x2 = np.random.randint(10, size=(3, 4))  # Two-dimensional array\n",
    "x3 = np.random.randint(10, size=(3, 4, 5))  # Three-dimensional array"
   ]
  },
  {
   "cell_type": "markdown",
   "metadata": {},
   "source": [
    "For each array, we can find, among the others:\n",
    "\n",
    "* <code>ndim</code>: number of dimensions  \n",
    "* <code>shape</code>: size of each dimension  \n",
    "* <code>size</code>: total size of array (in terms of num of elements)  \n",
    "* <code>itemsize</code>: total size of _each_ array (in bytes)\n",
    "* <code>nbytes</code>: total size of the array (in bytes)\n",
    "* <code>dtype</code>: data type  \n",
    "    \n",
    "For example, using our two-dimensional array:"
   ]
  },
  {
   "cell_type": "code",
   "execution_count": 5,
   "metadata": {},
   "outputs": [
    {
     "name": "stdout",
     "output_type": "stream",
     "text": [
      "x2 num_dim:  2\n",
      "x2 shape: (3, 4)\n",
      "x2 size:  12\n",
      "x2 item_size:  4 bytes\n"
     ]
    }
   ],
   "source": [
    "print('x2 num_dim: ', x2.ndim)\n",
    "print('x2 shape:', x2.shape)\n",
    "print('x2 size: ', x2.size)\n",
    "print('x2 item_size: ', x2.itemsize, 'bytes')"
   ]
  },
  {
   "cell_type": "code",
   "execution_count": null,
   "metadata": {},
   "outputs": [],
   "source": []
  }
 ],
 "metadata": {
  "kernelspec": {
   "display_name": "Python 3",
   "language": "python",
   "name": "python3"
  },
  "language_info": {
   "codemirror_mode": {
    "name": "ipython",
    "version": 3
   },
   "file_extension": ".py",
   "mimetype": "text/x-python",
   "name": "python",
   "nbconvert_exporter": "python",
   "pygments_lexer": "ipython3",
   "version": "3.6.1"
  }
 },
 "nbformat": 4,
 "nbformat_minor": 2
}
