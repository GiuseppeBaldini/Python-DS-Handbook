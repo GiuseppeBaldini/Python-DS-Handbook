{
 "cells": [
  {
   "cell_type": "markdown",
   "metadata": {},
   "source": [
    "# 02.01 - Understanding Data Types in Python"
   ]
  },
  {
   "cell_type": "markdown",
   "metadata": {},
   "source": [
    "For the purpose of our analysis, it is convenient to deal with all data as arrays of numbers.  \n",
    "\n",
    "For this reason, we will use the **NumPy** (short for _Numerical Python_) package as our tool to efficiently store and manipulate numerical arrays."
   ]
  },
  {
   "cell_type": "code",
   "execution_count": 1,
   "metadata": {},
   "outputs": [
    {
     "data": {
      "text/plain": [
       "'1.15.4'"
      ]
     },
     "execution_count": 1,
     "metadata": {},
     "output_type": "execute_result"
    }
   ],
   "source": [
    "import numpy as np\n",
    "np.__version__"
   ]
  },
  {
   "cell_type": "code",
   "execution_count": 2,
   "metadata": {},
   "outputs": [],
   "source": [
    "np?"
   ]
  },
  {
   "cell_type": "markdown",
   "metadata": {},
   "source": [
    "In order to understand how Python and NumPy differ in handling data, it could useful to see how variables work in Python.\n",
    "\n",
    "One key characteristic of Python is that it is dynamically typed, in contrast to statically-typed languages such as C or Java which require each variable to be explicitely declared.  "
   ]
  },
  {
   "cell_type": "code",
   "execution_count": 3,
   "metadata": {},
   "outputs": [
    {
     "ename": "SyntaxError",
     "evalue": "invalid syntax (<ipython-input-3-07e0a7af6193>, line 2)",
     "output_type": "error",
     "traceback": [
      "\u001b[1;36m  File \u001b[1;32m\"<ipython-input-3-07e0a7af6193>\"\u001b[1;36m, line \u001b[1;32m2\u001b[0m\n\u001b[1;33m    int result = 0;\u001b[0m\n\u001b[1;37m             ^\u001b[0m\n\u001b[1;31mSyntaxError\u001b[0m\u001b[1;31m:\u001b[0m invalid syntax\n"
     ]
    }
   ],
   "source": [
    "# C code\n",
    "int result = 0;\n",
    "for(int i=0; i<100; i++){\n",
    "    result += i;\n",
    "}"
   ]
  },
  {
   "cell_type": "markdown",
   "metadata": {},
   "source": [
    "Since in Python data types are dynamically inferred, we can write the same piece of code above as:"
   ]
  },
  {
   "cell_type": "code",
   "execution_count": null,
   "metadata": {},
   "outputs": [],
   "source": [
    "# Python code\n",
    "result = 0\n",
    "for i in range(100):\n",
    "    result += i"
   ]
  },
  {
   "cell_type": "markdown",
   "metadata": {},
   "source": [
    "But, under the hood, the standard Python implementation is itself written in C. This means that every Python not only contains its value, but a pointer to a compound C structure, which contains several values.  \n",
    "\n",
    "## Integers\n",
    "\n",
    "For example, an integer value in Python contains:\n",
    "\n",
    "* <code>ob_refcnt</code>    a reference count that helps Python silently handle memory allocation and deallocation\n",
    "* <code>ob_type</code>      which encodes the type of the variable\n",
    "* <code>ob_size</code>      which specifies the size of the following data members\n",
    "* <code>ob_digit</code>     which contains the actual integer value that we expect the Python variable to represent"
   ]
  },
  {
   "cell_type": "markdown",
   "metadata": {},
   "source": [
    "Key difference is:  \n",
    "\n",
    "1. In **C**, an integer is essentially a label for a position in memory whose bytes encode an integer value;\n",
    "\n",
    "2. In **Python**, an integer is a pointer to a position in memory containing all the Python object information, including the bytes that contain the integer value\n",
    "\n",
    "All this overhead gives Python the flexibility we very much enjoy, but comes at a cost in terms of both memory and execution time. "
   ]
  },
  {
   "cell_type": "markdown",
   "metadata": {},
   "source": [
    "## Lists\n",
    "\n",
    "The standard mutable multi-element container in Python is the list. We can create a **list of integers** as follows:"
   ]
  },
  {
   "cell_type": "code",
   "execution_count": null,
   "metadata": {},
   "outputs": [],
   "source": [
    "L = list(range(10))\n",
    "L"
   ]
  },
  {
   "cell_type": "code",
   "execution_count": null,
   "metadata": {},
   "outputs": [],
   "source": [
    "type(L[0])"
   ]
  },
  {
   "cell_type": "markdown",
   "metadata": {},
   "source": [
    "Similarly, we create a **list of strings** as follows:"
   ]
  },
  {
   "cell_type": "code",
   "execution_count": null,
   "metadata": {},
   "outputs": [],
   "source": [
    "L2 = [str(c) for c in L]\n",
    "L2"
   ]
  },
  {
   "cell_type": "code",
   "execution_count": null,
   "metadata": {},
   "outputs": [],
   "source": [
    "type(L2[0])"
   ]
  },
  {
   "cell_type": "markdown",
   "metadata": {},
   "source": [
    "Because of Python's dynamic typing, we can even create heterogeneous lists:"
   ]
  },
  {
   "cell_type": "code",
   "execution_count": null,
   "metadata": {},
   "outputs": [],
   "source": [
    "L3 = [True, \"2\", 3.0, 4]\n",
    "[type(item) for item in L3]"
   ]
  },
  {
   "cell_type": "markdown",
   "metadata": {},
   "source": [
    "This flexibility is clearly useful. However, when all values are of the same data type, this leads to redundant information being stored.\n",
    "\n",
    "NumPy-style arrays solve this problem by storing everything as fixed-type, making them more efficient for storing and manipulating data."
   ]
  },
  {
   "cell_type": "markdown",
   "metadata": {},
   "source": [
    "## Fixed-Type Arrays\n",
    "\n",
    "Python offers several options to create dense homogeneous arrays. For example, <code>array</code>:\n",
    "\n",
    "<code>i</code> indicating the <code>integer</code> data type in this case."
   ]
  },
  {
   "cell_type": "code",
   "execution_count": null,
   "metadata": {},
   "outputs": [],
   "source": [
    "import array\n",
    "L = list(range(10))\n",
    "A = array.array('i', L)\n",
    "A"
   ]
  },
  {
   "cell_type": "markdown",
   "metadata": {},
   "source": [
    "However, more useful is the <code>ndarray</code> object in NumPy, which handles storage _and_ operations."
   ]
  },
  {
   "cell_type": "markdown",
   "metadata": {},
   "source": [
    "## Arrays from Python lists\n",
    "\n",
    "First, we can use <code>np.array</code> to create arrays from Python lists:"
   ]
  },
  {
   "cell_type": "code",
   "execution_count": null,
   "metadata": {},
   "outputs": [],
   "source": [
    "# integer array:\n",
    "\n",
    "np.array([1, 4, 2, 5, 3])"
   ]
  },
  {
   "cell_type": "markdown",
   "metadata": {},
   "source": [
    "Setting the type with <code>dtype</code>:"
   ]
  },
  {
   "cell_type": "code",
   "execution_count": null,
   "metadata": {},
   "outputs": [],
   "source": [
    "np.array([1, 2, 3, 4], dtype='float32')"
   ]
  },
  {
   "cell_type": "markdown",
   "metadata": {},
   "source": [
    "Multidimensional arrays:"
   ]
  },
  {
   "cell_type": "code",
   "execution_count": null,
   "metadata": {},
   "outputs": [],
   "source": [
    "# nested lists result in multi-dimensional arrays\n",
    "np.array([range(i, i + 3) for i in [2, 4, 6]])"
   ]
  },
  {
   "cell_type": "markdown",
   "metadata": {},
   "source": [
    "## Creating Arrays from Scratch"
   ]
  },
  {
   "cell_type": "code",
   "execution_count": null,
   "metadata": {},
   "outputs": [],
   "source": [
    "# Create a length-10 integer array filled with zeros\n",
    "np.zeros(10, dtype=int)"
   ]
  },
  {
   "cell_type": "code",
   "execution_count": null,
   "metadata": {},
   "outputs": [],
   "source": [
    "np.ones((3,5), dtype=float)"
   ]
  },
  {
   "cell_type": "code",
   "execution_count": null,
   "metadata": {},
   "outputs": [],
   "source": [
    "# Create a 3x5 array filled with 3.14\n",
    "np.full((3,5), 3.14)"
   ]
  },
  {
   "cell_type": "code",
   "execution_count": null,
   "metadata": {},
   "outputs": [],
   "source": [
    "# Create an array filled with a linear sequence\n",
    "# Starting at 0, ending at 20, stepping by 2\n",
    "# (this is similar to the built-in range() function)\n",
    "np.arange(0, 20, 4)"
   ]
  },
  {
   "cell_type": "code",
   "execution_count": null,
   "metadata": {},
   "outputs": [],
   "source": [
    "# Create an array of five values evenly spaced between 0 and 0.5\n",
    "np.linspace(0, 0.5, 5)"
   ]
  },
  {
   "cell_type": "code",
   "execution_count": null,
   "metadata": {},
   "outputs": [],
   "source": [
    "# Create a 3x3 array of uniformly distributed\n",
    "# random values between 0 and 1\n",
    "np.random.random((3, 3))"
   ]
  },
  {
   "cell_type": "code",
   "execution_count": null,
   "metadata": {},
   "outputs": [],
   "source": [
    "# Create a 3x3 array of random integers in the interval [0, 10)\n",
    "np.random.randint(0, 10, (3, 3))"
   ]
  },
  {
   "cell_type": "code",
   "execution_count": null,
   "metadata": {},
   "outputs": [],
   "source": [
    "# Create a 3x3 identity matrix\n",
    "np.eye(3)"
   ]
  },
  {
   "cell_type": "code",
   "execution_count": null,
   "metadata": {},
   "outputs": [],
   "source": [
    "# Create an uninitialized array of three integers\n",
    "# The values will be whatever happens to already exist at that memory location\n",
    "np.empty(3)"
   ]
  },
  {
   "cell_type": "markdown",
   "metadata": {},
   "source": [
    "## NumPy Standard Data Types\n",
    "\n",
    "NumPy data types can be specified using a string:  \n",
    "\n",
    "<code>np.zeroes(10, dtype=\"int16\")</code>\n",
    "    \n",
    "or using the associated NumPy object:\n",
    "\n",
    "<code>np.zeroes(10, dtype=int16</code>"
   ]
  },
  {
   "cell_type": "markdown",
   "metadata": {},
   "source": [
    "Here is a list of standard NumPy data types:\n",
    "\n",
    "<code>bool_</code> \tBoolean (True or False) stored as a byte  \n",
    "<code>int_</code> \tDefault integer type (same as C long; normally either int64 or int32)  \n",
    "<code>intc</code> \tIdentical to C int (normally int32 or int64)  \n",
    "<code>intp</code> \tInteger used for indexing (same as C ssize_t; normally either int32 or int64)  \n",
    "<code>int8</code> \tByte (-128 to 127)  \n",
    "<code>int16</code> \tInteger (-32768 to 32767)  \n",
    "<code>int32</code> \tInteger (-2147483648 to 2147483647)  \n",
    "<code>int64</code> \tInteger (-9223372036854775808 to 9223372036854775807)  \n",
    "<code>uint8</code> \tUnsigned integer (0 to 255)  \n",
    "<code>uint16</code> \tUnsigned integer (0 to 65535)  \n",
    "<code>uint32</code> \tUnsigned integer (0 to 4294967295)  \n",
    "<code>uint64</code> \tUnsigned integer (0 to 18446744073709551615)  \n",
    "<code>float_</code> \tShorthand for float64.  \n",
    "<code>float16</code> \tHalf precision float: sign bit, 5 bits exponent, 10 bits mantissa  \n",
    "<code>float32</code> \tSingle precision float: sign bit, 8 bits exponent, 23 bits mantissa  \n",
    "<code>float64</code> \tDouble precision float: sign bit, 11 bits exponent, 52 bits mantissa  \n",
    "<code>complex_</code> \tShorthand for complex128.  \n",
    "<code>complex64</code> \tComplex number, represented by two 32-bit floats  \n",
    "<code>complex128</code> \tComplex number, represented by two 64-bit floats  \n",
    "\n",
    "More data types available in the [NumPy Documentation](http://numpy.org/). "
   ]
  }
 ],
 "metadata": {
  "kernelspec": {
   "display_name": "Python 3",
   "language": "python",
   "name": "python3"
  },
  "language_info": {
   "codemirror_mode": {
    "name": "ipython",
    "version": 3
   },
   "file_extension": ".py",
   "mimetype": "text/x-python",
   "name": "python",
   "nbconvert_exporter": "python",
   "pygments_lexer": "ipython3",
   "version": "3.6.1"
  }
 },
 "nbformat": 4,
 "nbformat_minor": 2
}
