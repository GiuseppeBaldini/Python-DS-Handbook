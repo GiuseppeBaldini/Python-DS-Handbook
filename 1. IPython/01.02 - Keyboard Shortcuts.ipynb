{
 "cells": [
  {
   "cell_type": "code",
   "execution_count": 1,
   "metadata": {},
   "outputs": [],
   "source": [
    "# Navigation\n",
    "Ctrl-a # Move cursor to the beginning of the line\n",
    "Ctrl-e # Move cursor to the end of the line\n",
    "Ctrl-b or left arrow   # Move cursor back one character\n",
    "Ctrl-f or right arrow  # Move cursor forward one character"
   ]
  },
  {
   "cell_type": "code",
   "execution_count": null,
   "metadata": {},
   "outputs": [],
   "source": [
    "# Text entry\n",
    "Ctrl-d # Delete next character in line\n",
    "Ctrl-k # Cut text from cursor to end of line\n",
    "Ctrl-u # Cut text from beginning of line to cursor\n",
    "Ctrl-y # Yank (i.e. paste) text that was previously cut\n",
    "Ctrl-t # Transpose (i.e., switch) previous two characters"
   ]
  },
  {
   "cell_type": "code",
   "execution_count": 1,
   "metadata": {},
   "outputs": [],
   "source": [
    "# Command history shortcuts\n",
    "Ctrl-p (or up arrow key)   # Access previous command in history\n",
    "Ctrl-n (or down arrow key) # Access next command in history\n",
    "Ctrl-r # Reverse-search through command history"
   ]
  },
  {
   "cell_type": "code",
   "execution_count": null,
   "metadata": {},
   "outputs": [],
   "source": [
    "# Miscellaneous \n",
    "Ctrl-l # Clear terminal screen\n",
    "Ctrl-c # Interrupt current Python command\n",
    "Ctrl-d # Exit IPython session"
   ]
  }
 ],
 "metadata": {
  "kernelspec": {
   "display_name": "Python 3",
   "language": "python",
   "name": "python3"
  },
  "language_info": {
   "codemirror_mode": {
    "name": "ipython",
    "version": 3
   },
   "file_extension": ".py",
   "mimetype": "text/x-python",
   "name": "python",
   "nbconvert_exporter": "python",
   "pygments_lexer": "ipython3",
   "version": "3.6.1"
  }
 },
 "nbformat": 4,
 "nbformat_minor": 2
}
