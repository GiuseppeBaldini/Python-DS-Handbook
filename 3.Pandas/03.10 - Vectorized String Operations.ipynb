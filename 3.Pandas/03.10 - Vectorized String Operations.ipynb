{
 "cells": [
  {
   "cell_type": "markdown",
   "metadata": {},
   "source": [
    "# 03.10 - Vectorized String Operations"
   ]
  },
  {
   "cell_type": "markdown",
   "metadata": {},
   "source": [
    "In order to efficiently manipulate strings, Pandas goes one step further introducing **vectorized string operations**. "
   ]
  },
  {
   "cell_type": "markdown",
   "metadata": {},
   "source": [
    "### Introducing Pandas String Operations\n",
    "\n",
    "Here is a vectorized arithmetic operation:"
   ]
  },
  {
   "cell_type": "code",
   "execution_count": 1,
   "metadata": {},
   "outputs": [
    {
     "data": {
      "text/plain": [
       "array([ 4,  6, 10, 14, 22, 26])"
      ]
     },
     "execution_count": 1,
     "metadata": {},
     "output_type": "execute_result"
    }
   ],
   "source": [
    "import numpy as np\n",
    "x = np.array([2, 3, 5, 7, 11, 13])\n",
    "x * 2"
   ]
  },
  {
   "cell_type": "markdown",
   "metadata": {},
   "source": [
    "Pandas simply extends the concept of vectorization to strings:"
   ]
  },
  {
   "cell_type": "code",
   "execution_count": 5,
   "metadata": {},
   "outputs": [
    {
     "data": {
      "text/plain": [
       "0    peter\n",
       "1     Paul\n",
       "2     None\n",
       "3     MARY\n",
       "4    gUIDO\n",
       "dtype: object"
      ]
     },
     "execution_count": 5,
     "metadata": {},
     "output_type": "execute_result"
    }
   ],
   "source": [
    "import pandas as pd\n",
    "data = ['peter', 'Paul', None, 'MARY', 'gUIDO']\n",
    "names = pd.Series(data)\n",
    "names"
   ]
  },
  {
   "cell_type": "markdown",
   "metadata": {},
   "source": [
    "For example, here is how we capitalize the Series above:"
   ]
  },
  {
   "cell_type": "code",
   "execution_count": 6,
   "metadata": {},
   "outputs": [
    {
     "data": {
      "text/plain": [
       "0    Peter\n",
       "1     Paul\n",
       "2     None\n",
       "3     Mary\n",
       "4    Guido\n",
       "dtype: object"
      ]
     },
     "execution_count": 6,
     "metadata": {},
     "output_type": "execute_result"
    }
   ],
   "source": [
    "names.str.capitalize()"
   ]
  },
  {
   "cell_type": "markdown",
   "metadata": {},
   "source": [
    "We can also check all the availble vectorized string operations using <code>tab completion</code> after <code>str</code>. "
   ]
  },
  {
   "cell_type": "markdown",
   "metadata": {},
   "source": [
    "### Tables of Pandas String Methods\n",
    "\n",
    "To illustrate some of the key methods available, we will be using the following series of names: "
   ]
  },
  {
   "cell_type": "code",
   "execution_count": 8,
   "metadata": {},
   "outputs": [],
   "source": [
    "monte = pd.Series(['Graham Chapman', 'John Cleese', 'Terry Gilliam',\n",
    "                   'Eric Idle', 'Terry Jones', 'Michael Palin'])"
   ]
  },
  {
   "cell_type": "markdown",
   "metadata": {},
   "source": [
    "#### Methods similar to Python string methods\n",
    "\n",
    "Most of Pandas string methods have an equivalent Python built-in string method:"
   ]
  },
  {
   "cell_type": "markdown",
   "metadata": {},
   "source": [
    "<pre>\n",
    "\n",
    "len() \t  lower() \ttranslate() \tislower()\n",
    "ljust() \tupper() \tstartswith() \tisupper()\n",
    "rjust() \tfind() \tendswith() \tisnumeric()\n",
    "center()    rfind() \tisalnum() \tisdecimal()\n",
    "zfill() \tindex() \tisalpha() \tsplit()\n",
    "strip() \trindex() \tisdigit() \trsplit()\n",
    "rstrip()    capitalize() \tisspace() \tpartition()\n",
    "lstrip()    swapcase() \tistitle() \trpartition()\n",
    "\n",
    "</pre>"
   ]
  },
  {
   "cell_type": "markdown",
   "metadata": {},
   "source": [
    "#### Methods using regular expressions\n",
    "\n",
    "Additionally, there are several methods that accept regular expressions to examine the content of each string, following the conventions of Python's <code>re</code> module:"
   ]
  },
  {
   "cell_type": "markdown",
   "metadata": {},
   "source": [
    "<pre>\n",
    "\n",
    "Method \tDescription\n",
    "\n",
    "match() \t  Call re.match() on each element, returning a boolean.\n",
    "extract() \tCall re.match() on each element, returning matched groups as strings.\n",
    "findall() \tCall re.findall() on each element\n",
    "replace() \tReplace occurrences of pattern with some other string\n",
    "contains()    Call re.search() on each element, returning a boolean\n",
    "count() \t  Count occurrences of pattern\n",
    "split() \t  Equivalent to str.split(), but accepts regexps\n",
    "rsplit() \t Equivalent to str.rsplit(), but accepts regexps\n",
    "\n",
    "</pre>"
   ]
  },
  {
   "cell_type": "markdown",
   "metadata": {},
   "source": [
    "With this, we can filter for specific criteria using regexs, for example checking all the names starting _and_ ending with a consonant:"
   ]
  },
  {
   "cell_type": "code",
   "execution_count": 10,
   "metadata": {},
   "outputs": [
    {
     "data": {
      "text/plain": [
       "0    [Graham Chapman]\n",
       "1                  []\n",
       "2     [Terry Gilliam]\n",
       "3                  []\n",
       "4       [Terry Jones]\n",
       "5     [Michael Palin]\n",
       "dtype: object"
      ]
     },
     "execution_count": 10,
     "metadata": {},
     "output_type": "execute_result"
    }
   ],
   "source": [
    "monte.str.findall(r'^[^AEIOU].*[^aeiou]$')"
   ]
  },
  {
   "cell_type": "markdown",
   "metadata": {},
   "source": [
    "#### Miscellaneous methods\n",
    "\n",
    "<pre>\n",
    "Method \tDescription\n",
    "\n",
    "get() \t       Index each element\n",
    "slice() \t     Slice each element\n",
    "slice_replace()  Replace slice in each element with passed value\n",
    "cat() \t       Concatenate strings\n",
    "repeat() \t    Repeat values\n",
    "normalize() \t Return Unicode form of string\n",
    "pad() \t       Add whitespace to left, right, or both sides of strings\n",
    "wrap() \t      Split long strings into lines with length less than a given width\n",
    "join() \t      Join strings in each element of the Series with passed separator\n",
    "get_dummies()    Extract dummy variables as a dataframe\n",
    "</pre>"
   ]
  }
 ],
 "metadata": {
  "kernelspec": {
   "display_name": "Python 3",
   "language": "python",
   "name": "python3"
  },
  "language_info": {
   "codemirror_mode": {
    "name": "ipython",
    "version": 3
   },
   "file_extension": ".py",
   "mimetype": "text/x-python",
   "name": "python",
   "nbconvert_exporter": "python",
   "pygments_lexer": "ipython3",
   "version": "3.6.1"
  }
 },
 "nbformat": 4,
 "nbformat_minor": 2
}
